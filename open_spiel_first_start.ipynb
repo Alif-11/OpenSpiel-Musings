{
 "cells": [
  {
   "cell_type": "code",
   "execution_count": 1,
   "id": "25a40359",
   "metadata": {},
   "outputs": [
    {
     "name": "stdout",
     "output_type": "stream",
     "text": [
      "['2048', 'add_noise', 'amazons', 'backgammon', 'bargaining', 'battleship', 'blackjack', 'blotto', 'breakthrough', 'bridge', 'bridge_uncontested_bidding', 'catch', 'checkers', 'chess', 'cliff_walking', 'clobber', 'coin_game', 'colored_trails', 'connect_four', 'coop_box_pushing', 'coop_to_1p', 'coordinated_mp', 'crazy_eights', 'cursor_go', 'dark_chess', 'dark_hex', 'dark_hex_ir', 'deep_sea', 'dots_and_boxes', 'dou_dizhu', 'efg_game', 'euchre', 'first_sealed_auction', 'gin_rummy', 'go', 'goofspiel', 'hanabi', 'havannah', 'hearts', 'hex', 'kriegspiel', 'kuhn_poker', 'laser_tag', 'leduc_poker', 'lewis_signaling', 'liars_dice', 'liars_dice_ir', 'maedn', 'mancala', 'markov_soccer', 'matching_pennies_3p', 'matrix_bos', 'matrix_brps', 'matrix_cd', 'matrix_coordination', 'matrix_mp', 'matrix_pd', 'matrix_rps', 'matrix_rpsw', 'matrix_sh', 'matrix_shapleys_game', 'mfg_crowd_modelling', 'mfg_crowd_modelling_2d', 'mfg_dynamic_routing', 'mfg_garnet', 'misere', 'morpion_solitaire', 'negotiation', 'nfg_game', 'nim', 'nine_mens_morris', 'normal_form_extensive_game', 'oh_hell', 'oshi_zumo', 'othello', 'oware', 'pathfinding', 'pentago', 'phantom_go', 'phantom_ttt', 'phantom_ttt_ir', 'pig', 'quoridor', 'rbc', 'repeated_game', 'restricted_nash_response', 'sheriff', 'skat', 'solitaire', 'spades', 'start_at', 'stones_and_gems', 'tarok', 'tic_tac_toe', 'tiny_bridge_2p', 'tiny_bridge_4p', 'tiny_hanabi', 'trade_comm', 'turn_based_simultaneous_game', 'twixt', 'ultimate_tic_tac_toe', 'universal_poker', 'y', 'zerosum']\n"
     ]
    }
   ],
   "source": [
    "import pyspiel\n",
    "print(pyspiel.registered_names())"
   ]
  },
  {
   "cell_type": "code",
   "execution_count": null,
   "id": "761ded41",
   "metadata": {},
   "outputs": [
    {
     "name": "stdout",
     "output_type": "stream",
     "text": [
      "printing the tic tac toe game object: tic_tac_toe()\n",
      "number of players for tic tac toe: 2\n",
      "tic tac toe number of distinct actions is 9\n",
      "tic tac toe max history length is 9\n"
     ]
    }
   ],
   "source": [
    "# load game\n",
    "tic_tac_toe_generator = pyspiel.load_game(\"tic_tac_toe\")\n",
    "\n",
    "# print game attributes\n",
    "print(\"printing the tic tac toe generator object:\",tic_tac_toe_generator)\n",
    "print(\"number of players for tic tac toe:\",tic_tac_toe_generator.num_players())\n",
    "print(f\"tic tac toe number of distinct actions is {tic_tac_toe_generator.num_distinct_actions()}\")\n",
    "print(f\"tic tac toe max history length is {tic_tac_toe_generator.max_history_length()}\")\n"
   ]
  },
  {
   "cell_type": "code",
   "execution_count": 14,
   "id": "a2c19206",
   "metadata": {},
   "outputs": [
    {
     "name": "stdout",
     "output_type": "stream",
     "text": [
      "tic tac toe game:\n",
      "...\n",
      "...\n",
      "...\n"
     ]
    }
   ],
   "source": [
    "# create a new tic tac toe game\n",
    "tic_tac_toe_game = tic_tac_toe_generator.new_initial_state()\n",
    "print(f\"tic tac toe game:\\n{tic_tac_toe_game}\", )"
   ]
  }
 ],
 "metadata": {
  "kernelspec": {
   "display_name": "openspiel-musings",
   "language": "python",
   "name": "python3"
  },
  "language_info": {
   "codemirror_mode": {
    "name": "ipython",
    "version": 3
   },
   "file_extension": ".py",
   "mimetype": "text/x-python",
   "name": "python",
   "nbconvert_exporter": "python",
   "pygments_lexer": "ipython3",
   "version": "3.10.17"
  }
 },
 "nbformat": 4,
 "nbformat_minor": 5
}
