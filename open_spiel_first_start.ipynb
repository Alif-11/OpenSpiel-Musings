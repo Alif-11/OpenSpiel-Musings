{
 "cells": [
  {
   "cell_type": "code",
   "execution_count": 1,
   "id": "25a40359",
   "metadata": {},
   "outputs": [
    {
     "name": "stdout",
     "output_type": "stream",
     "text": [
      "['2048', 'add_noise', 'amazons', 'backgammon', 'bargaining', 'battleship', 'blackjack', 'blotto', 'breakthrough', 'bridge', 'bridge_uncontested_bidding', 'catch', 'checkers', 'chess', 'cliff_walking', 'clobber', 'coin_game', 'colored_trails', 'connect_four', 'coop_box_pushing', 'coop_to_1p', 'coordinated_mp', 'crazy_eights', 'cursor_go', 'dark_chess', 'dark_hex', 'dark_hex_ir', 'deep_sea', 'dots_and_boxes', 'dou_dizhu', 'efg_game', 'euchre', 'first_sealed_auction', 'gin_rummy', 'go', 'goofspiel', 'hanabi', 'havannah', 'hearts', 'hex', 'kriegspiel', 'kuhn_poker', 'laser_tag', 'leduc_poker', 'lewis_signaling', 'liars_dice', 'liars_dice_ir', 'maedn', 'mancala', 'markov_soccer', 'matching_pennies_3p', 'matrix_bos', 'matrix_brps', 'matrix_cd', 'matrix_coordination', 'matrix_mp', 'matrix_pd', 'matrix_rps', 'matrix_rpsw', 'matrix_sh', 'matrix_shapleys_game', 'mfg_crowd_modelling', 'mfg_crowd_modelling_2d', 'mfg_dynamic_routing', 'mfg_garnet', 'misere', 'morpion_solitaire', 'negotiation', 'nfg_game', 'nim', 'nine_mens_morris', 'normal_form_extensive_game', 'oh_hell', 'oshi_zumo', 'othello', 'oware', 'pathfinding', 'pentago', 'phantom_go', 'phantom_ttt', 'phantom_ttt_ir', 'pig', 'quoridor', 'rbc', 'repeated_game', 'restricted_nash_response', 'sheriff', 'skat', 'solitaire', 'spades', 'start_at', 'stones_and_gems', 'tarok', 'tic_tac_toe', 'tiny_bridge_2p', 'tiny_bridge_4p', 'tiny_hanabi', 'trade_comm', 'turn_based_simultaneous_game', 'twixt', 'ultimate_tic_tac_toe', 'universal_poker', 'y', 'zerosum']\n"
     ]
    }
   ],
   "source": [
    "import pyspiel\n",
    "print(pyspiel.registered_names())"
   ]
  },
  {
   "cell_type": "code",
   "execution_count": 2,
   "id": "761ded41",
   "metadata": {},
   "outputs": [
    {
     "name": "stdout",
     "output_type": "stream",
     "text": [
      "printing the tic tac toe generator object: tic_tac_toe()\n",
      "number of players for tic tac toe: 2\n",
      "tic tac toe number of distinct actions is 9\n",
      "tic tac toe max history length is 9\n"
     ]
    }
   ],
   "source": [
    "# load game\n",
    "tic_tac_toe_generator = pyspiel.load_game(\"tic_tac_toe\")\n",
    "\n",
    "# print game attributes\n",
    "print(\"printing the tic tac toe generator object:\",tic_tac_toe_generator)\n",
    "print(\"number of players for tic tac toe:\",tic_tac_toe_generator.num_players())\n",
    "print(f\"tic tac toe number of distinct actions is {tic_tac_toe_generator.num_distinct_actions()}\")\n",
    "print(f\"tic tac toe max history length is {tic_tac_toe_generator.max_history_length()}\")\n"
   ]
  },
  {
   "cell_type": "code",
   "execution_count": 6,
   "id": "a2c19206",
   "metadata": {},
   "outputs": [
    {
     "name": "stdout",
     "output_type": "stream",
     "text": [
      "tic tac toe game:\n",
      "...\n",
      "...\n",
      "...\n"
     ]
    }
   ],
   "source": [
    "# create a new tic tac toe game\n",
    "ttt_current_state = tic_tac_toe_generator.new_initial_state()\n",
    "print(f\"tic tac toe game:\\n{ttt_current_state}\", )"
   ]
  },
  {
   "cell_type": "code",
   "execution_count": 10,
   "id": "20345088",
   "metadata": {},
   "outputs": [
    {
     "name": "stdout",
     "output_type": "stream",
     "text": [
      "Current player of the game: 0\n",
      "Is this state terminal? False\n",
      "Legal actions of the state: [0, 1, 2, 3, 4, 5, 6, 7, 8]\n"
     ]
    }
   ],
   "source": [
    "print(\"Current player of the game:\", ttt_current_state.current_player())\n",
    "print(f\"Is this state terminal? {ttt_current_state.is_terminal()}\")\n",
    "print(f\"Legal actions of the state: {ttt_current_state.legal_actions()}\")"
   ]
  },
  {
   "cell_type": "code",
   "execution_count": 18,
   "id": "80968b60",
   "metadata": {},
   "outputs": [
    {
     "name": "stdout",
     "output_type": "stream",
     "text": [
      "8bbbbbbbb\n",
      "7bbbbbbbb\n",
      "6........\n",
      "5........\n",
      "4........\n",
      "3........\n",
      "2wwwwwwww\n",
      "1wwwwwwww\n",
      " abcdefgh\n",
      "\n"
     ]
    }
   ],
   "source": [
    "# Another game\n",
    "breakthrough = pyspiel.load_game(\"breakthrough\")\n",
    "breakthrough_current_state = breakthrough.new_initial_state()\n",
    "print(breakthrough_current_state)"
   ]
  },
  {
   "cell_type": "markdown",
   "id": "f440f151",
   "metadata": {},
   "source": [
    "# Trying out a Game Trajectory, via Kuhn Poker\n"
   ]
  },
  {
   "cell_type": "code",
   "execution_count": null,
   "id": "69091cb1",
   "metadata": {},
   "outputs": [
    {
     "name": "stdout",
     "output_type": "stream",
     "text": [
      "huh \n",
      "short_name: kuhn_poker\n",
      "long_name: Kuhn Poker\n",
      "dynamics: Sequential\n",
      "chance_mode: ExplicitStochastic\n",
      "information: ImperfectInformation\n",
      "utility: ZeroSum\n",
      "reward_model: Terminal\n",
      "max_num_players: 10\n",
      "min_num_players: 2\n",
      "provides_information_state_string: true\n",
      "provides_information_state_tensor: true\n",
      "provides_observation_string: true\n",
      "provides_observation_tensor: true\n",
      "provides_factored_observation_string: true\n",
      "parameter_specification: players=kInt***2***false\n"
     ]
    }
   ],
   "source": [
    "kuhn_poker = pyspiel.load_game(\"kuhn_poker\")\n",
    "k_p_current_state = kuhn_poker.new_initial_state()\n",
    "print(\"huh\", k_p_current_state)\n"
   ]
  }
 ],
 "metadata": {
  "kernelspec": {
   "display_name": "openspiel-musings",
   "language": "python",
   "name": "python3"
  },
  "language_info": {
   "codemirror_mode": {
    "name": "ipython",
    "version": 3
   },
   "file_extension": ".py",
   "mimetype": "text/x-python",
   "name": "python",
   "nbconvert_exporter": "python",
   "pygments_lexer": "ipython3",
   "version": "3.10.17"
  }
 },
 "nbformat": 4,
 "nbformat_minor": 5
}
